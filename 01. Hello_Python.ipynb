{
 "cells": [
  {
   "cell_type": "markdown",
   "metadata": {},
   "source": [
    "## Jupyter notebook 단축기 \n",
    "\n",
    "1. esc 누르면 명령모드\n",
    "2. a 누르면 위에 셀 추가\n",
    "- In은 코드 모드\n",
    "- m을 누르면 마크다운 모드\n",
    "- y를 누르면 다시 코드모드\n",
    "- v는 셀복사\n",
    "- b는 셀 아래에 추가\n",
    "- h누르면 help 명령어 단축기 알려줌"
   ]
  },
  {
   "cell_type": "code",
   "execution_count": 3,
   "metadata": {},
   "outputs": [
    {
     "name": "stdout",
     "output_type": "stream",
     "text": [
      "Hello python\n"
     ]
    }
   ],
   "source": [
    "print('Hello python')"
   ]
  }
 ],
 "metadata": {
  "kernelspec": {
   "display_name": "Python 3",
   "language": "python",
   "name": "python3"
  },
  "language_info": {
   "codemirror_mode": {
    "name": "ipython",
    "version": 3
   },
   "file_extension": ".py",
   "mimetype": "text/x-python",
   "name": "python",
   "nbconvert_exporter": "python",
   "pygments_lexer": "ipython3",
   "version": "3.7.3"
  }
 },
 "nbformat": 4,
 "nbformat_minor": 2
}
