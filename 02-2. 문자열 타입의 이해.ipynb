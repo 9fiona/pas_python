{
 "cells": [
  {
   "cell_type": "markdown",
   "metadata": {},
   "source": [
    "**String 문자열** : 자바에서는 \"\", '' 따로 있지만 파이썬에서는 \"\", '' 둘 다 문자열로 쓰인다.\n",
    "* 문자열에 ''' ''', \"\"\" \"\"\"도 있다.\n",
    "* '', \"\"은 한줄짜리 문자열을 출력할때 쓴다.\n",
    "* 여러줄에 걸처 문자열을 출력하고 싶다면 ''' ''', \"\"\" \"\"\""
   ]
  },
  {
   "cell_type": "code",
   "execution_count": 5,
   "metadata": {},
   "outputs": [
    {
     "name": "stdout",
     "output_type": "stream",
     "text": [
      "Hello world\n",
      "'Hello' world\n",
      "Hello python\n",
      "Hello java\n"
     ]
    }
   ],
   "source": [
    "a = \"Hello world\"\n",
    "b = \"'Hello' world\"\n",
    "c = \"\"\"Hello python\n",
    "Hello java\"\"\"\n",
    "print(a)\n",
    "print(b)\n",
    "print(c)"
   ]
  },
  {
   "cell_type": "markdown",
   "metadata": {},
   "source": [
    "**escape** : 이스케이프 문자(\\n, \\t....) 문자열 내의 일부 문자의 의미를 달리하여 특정한 효과를 주는 것\n",
    "* \\n : 개행\n",
    "* \\t : 뛰어쓰기"
   ]
  },
  {
   "cell_type": "code",
   "execution_count": 7,
   "metadata": {},
   "outputs": [
    {
     "name": "stdout",
     "output_type": "stream",
     "text": [
      "Hello world\n",
      "\n",
      "\n",
      "\t\tHaHaHa\n"
     ]
    }
   ],
   "source": [
    "print(\"Hello world\\n\\n\")\n",
    "print(\"\\t\\tHaHaHa\")"
   ]
  }
 ],
 "metadata": {
  "kernelspec": {
   "display_name": "Python 3",
   "language": "python",
   "name": "python3"
  },
  "language_info": {
   "codemirror_mode": {
    "name": "ipython",
    "version": 3
   },
   "file_extension": ".py",
   "mimetype": "text/x-python",
   "name": "python",
   "nbconvert_exporter": "python",
   "pygments_lexer": "ipython3",
   "version": "3.7.3"
  }
 },
 "nbformat": 4,
 "nbformat_minor": 2
}
