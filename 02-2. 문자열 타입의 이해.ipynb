{
 "cells": [
  {
   "cell_type": "markdown",
   "metadata": {},
   "source": [
    "**String 문자열** : 자바에서는 \"\", '' 따로 있지만 파이썬에서는 \"\", '' 둘 다 문자열로 쓰인다.\n",
    "* 문자열에 ''' ''', \"\"\" \"\"\"도 있다.\n",
    "* '', \"\"은 한줄짜리 문자열을 출력할때 쓴다.\n",
    "* 여러줄에 걸처 문자열을 출력하고 싶다면 ''' ''', \"\"\" \"\"\""
   ]
  },
  {
   "cell_type": "code",
   "execution_count": 5,
   "metadata": {},
   "outputs": [
    {
     "name": "stdout",
     "output_type": "stream",
     "text": [
      "Hello world\n",
      "'Hello' world\n",
      "Hello python\n",
      "Hello java\n"
     ]
    }
   ],
   "source": [
    "a = \"Hello world\"\n",
    "b = \"'Hello' world\"\n",
    "c = \"\"\"Hello python\n",
    "Hello java\"\"\"\n",
    "print(a)\n",
    "print(b)\n",
    "print(c)"
   ]
  },
  {
   "cell_type": "markdown",
   "metadata": {},
   "source": [
    "**escape** : 이스케이프 문자(\\n, \\t....) 문자열 내의 일부 문자의 의미를 달리하여 특정한 효과를 주는 것\n",
    "* \\n : 개행\n",
    "* \\t : 뛰어쓰기"
   ]
  },
  {
   "cell_type": "code",
   "execution_count": 2,
   "metadata": {},
   "outputs": [
    {
     "name": "stdout",
     "output_type": "stream",
     "text": [
      "Hello world\n",
      "\n",
      "\n",
      "\t\tHaHaHa\n"
     ]
    }
   ],
   "source": [
    "print(\"Hello world\\n\\n\")\n",
    "print(\"\\t\\tHaHaHa\")"
   ]
  },
  {
   "cell_type": "markdown",
   "metadata": {},
   "source": [
    "**문자열 index 및 추출**\n",
    "- 맨 처음에 시작하는 문자는 0, 맨 끝에 있는 문자는 ???  \n",
    "ex ) 자바에서 첫번째 문자는 0, 끝번째 문자를 찾아라? length - 1\n",
    "- python은 -1하면 마지막문자가 나온다.\n",
    "- 파이썬만 음수 인덱스를 지원합니다.\n",
    "- 맨 끝 문자를 추출(-1), 끝에서 두번째를 추출하고 싶으면(-2)"
   ]
  },
  {
   "cell_type": "code",
   "execution_count": 14,
   "metadata": {},
   "outputs": [
    {
     "name": "stdout",
     "output_type": "stream",
     "text": [
      "H\n",
      "n\n",
      "12\n",
      "11\n",
      "n\n"
     ]
    }
   ],
   "source": [
    " str = \"Hello python\"\n",
    "print(str[0])\n",
    "print(str[-1])\n",
    "print(len(str))\n",
    "print(len(str)-1)\n",
    "print(str[len(str)-1])"
   ]
  },
  {
   "cell_type": "markdown",
   "metadata": {},
   "source": [
    "**len 함수** : 문자열 길이를 알려주는 것"
   ]
  },
  {
   "cell_type": "markdown",
   "metadata": {},
   "source": [
    "**기본적 외장함수**\n",
    "- upper : 문자열 대문자로 바꾸는 법\n",
    "- lower : 문자열 소문자로 바꾸는 법"
   ]
  },
  {
   "cell_type": "code",
   "execution_count": 3,
   "metadata": {},
   "outputs": [
    {
     "name": "stdout",
     "output_type": "stream",
     "text": [
      "HELLO PYTHON\n",
      "hello python\n"
     ]
    }
   ],
   "source": [
    "str = \"hello python\"\n",
    "str2 = \"HELLO PYTHON\"\n",
    "print(str.upper())\n",
    "print(str2.lower())"
   ]
  },
  {
   "cell_type": "markdown",
   "metadata": {},
   "source": [
    "**문자열 치환**  \n",
    "(앞 : 대상, 뒤 : 바꿀 문자)"
   ]
  },
  {
   "cell_type": "code",
   "execution_count": 5,
   "metadata": {},
   "outputs": [
    {
     "data": {
      "text/plain": [
       "'Hi python'"
      ]
     },
     "execution_count": 5,
     "metadata": {},
     "output_type": "execute_result"
    }
   ],
   "source": [
    "str = \"Hello python\"\n",
    "str.replace(\"Hello\", \"Hi\")"
   ]
  },
  {
   "cell_type": "markdown",
   "metadata": {},
   "source": [
    "**문자열 삭제**  \n",
    "특정문자열을 삭제할 때도 공백으로 replace 이용"
   ]
  },
  {
   "cell_type": "code",
   "execution_count": 8,
   "metadata": {},
   "outputs": [
    {
     "data": {
      "text/plain": [
       "'Life is too short.'"
      ]
     },
     "execution_count": 8,
     "metadata": {},
     "output_type": "execute_result"
    }
   ],
   "source": [
    "str = \"Life is too short, you need python.\"\n",
    "str.replace(\", you need python\", \"\")"
   ]
  },
  {
   "cell_type": "markdown",
   "metadata": {},
   "source": [
    "**포맷**  \n",
    ": 문자열 내에 특정한 값을 변수로부터 문자를 생성하는 것"
   ]
  },
  {
   "cell_type": "code",
   "execution_count": 18,
   "metadata": {},
   "outputs": [
    {
     "name": "stdout",
     "output_type": "stream",
     "text": [
      "오늘 기온은 20도이고 비 올 확률은 40%입니다\n"
     ]
    }
   ],
   "source": [
    "temp = 20\n",
    "rain = 40\n",
    "weather = \"오늘 기온은 {}도이고 비 올 확률은 {}%입니다\".format(temp, rain)\n",
    "print(weather)"
   ]
  },
  {
   "cell_type": "code",
   "execution_count": 20,
   "metadata": {},
   "outputs": [
    {
     "name": "stdout",
     "output_type": "stream",
     "text": [
      "오늘 기온은 21도이고 비 올 확률은 60%입니다.\n"
     ]
    }
   ],
   "source": [
    "temp = 21\n",
    "rain = 60\n",
    "weather = \"오늘 기온은 {}도이고 비 올 확률은 {}%입니다.\"\n",
    "str = weather.format(temp, rain)\n",
    "print(str)"
   ]
  },
  {
   "cell_type": "markdown",
   "metadata": {},
   "source": [
    "**split(스플릿)**  \n",
    ": 문자열을 특정한 문자열로 구분해서 잘라줍니다."
   ]
  },
  {
   "cell_type": "code",
   "execution_count": 25,
   "metadata": {},
   "outputs": [
    {
     "data": {
      "text/plain": [
       "['Life', 'is', 'toot', 'short,', 'you', 'need', 'python.']"
      ]
     },
     "execution_count": 25,
     "metadata": {},
     "output_type": "execute_result"
    }
   ],
   "source": [
    "str = \"Life is toot short, you need python.\"\n",
    "str.split()\n",
    "str.split(\" \")"
   ]
  },
  {
   "cell_type": "markdown",
   "metadata": {},
   "source": [
    "List 타입으로 결과값 제공  \n",
    "리스트는 대괄호로 구분됩니다."
   ]
  }
 ],
 "metadata": {
  "kernelspec": {
   "display_name": "Python 3",
   "language": "python",
   "name": "python3"
  },
  "language_info": {
   "codemirror_mode": {
    "name": "ipython",
    "version": 3
   },
   "file_extension": ".py",
   "mimetype": "text/x-python",
   "name": "python",
   "nbconvert_exporter": "python",
   "pygments_lexer": "ipython3",
   "version": "3.7.3"
  }
 },
 "nbformat": 4,
 "nbformat_minor": 2
}
