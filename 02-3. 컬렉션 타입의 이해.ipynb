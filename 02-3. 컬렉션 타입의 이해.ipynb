{
 "cells": [
  {
   "cell_type": "markdown",
   "metadata": {},
   "source": [
    "**리스트 타입, 튜플, 셋, 딕셔너리**  \n",
    ": 복수개의 값을 담을 수 있는 데이터 구조"
   ]
  },
  {
   "cell_type": "markdown",
   "metadata": {},
   "source": [
    "컬렉션 프레임 워크  \n",
    "자바에서는 리스트, 셋, 맵\n",
    "가장 많이 사용할 것은 딕셔너리(json 타입)  \n",
    "{\"key\", \"value\"} : json  \n",
    "mongoDB에 데이터 넣을 때 딕셔너리 타입으로 만들어 넣어요(자바에서의 DTO)"
   ]
  },
  {
   "cell_type": "markdown",
   "metadata": {},
   "source": [
    " - 리스트는 생성 후 값 변경이 가능합니다.  \n",
    " - 튜플은 생성 후 값 변경이 불가능합니다."
   ]
  },
  {
   "cell_type": "markdown",
   "metadata": {},
   "source": [
    "튜플은 언제 쓰나요? 결과값 반환 받을 때!  \n",
    "대괄호 안에 값을 담아서 만들어요"
   ]
  },
  {
   "cell_type": "markdown",
   "metadata": {},
   "source": [
    "**리스트를 만들 수 있는 3가지 방법**\n",
    "1. 대괄호로 만드는 방법 : {1, 2, 3}\n",
    "2. 리스트 함수로 생성하는 방법 : list()\n",
    "3. split으로 생성하는 방법 : str.split()"
   ]
  }
 ],
 "metadata": {
  "kernelspec": {
   "display_name": "Python 3",
   "language": "python",
   "name": "python3"
  },
  "language_info": {
   "codemirror_mode": {
    "name": "ipython",
    "version": 3
   },
   "file_extension": ".py",
   "mimetype": "text/x-python",
   "name": "python",
   "nbconvert_exporter": "python",
   "pygments_lexer": "ipython3",
   "version": "3.7.3"
  }
 },
 "nbformat": 4,
 "nbformat_minor": 2
}
